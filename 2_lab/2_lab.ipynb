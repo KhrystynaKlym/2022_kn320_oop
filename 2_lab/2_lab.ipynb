{
 "cells": [
  {
   "cell_type": "markdown",
   "metadata": {},
   "source": [
    "## Базові типи даних\n",
    "### Числові та стрічкові"
   ]
  },
  {
   "cell_type": "code",
   "execution_count": 29,
   "metadata": {},
   "outputs": [
    {
     "data": {
      "text/plain": [
       "'25'"
      ]
     },
     "execution_count": 29,
     "metadata": {},
     "output_type": "execute_result"
    }
   ],
   "source": [
    "int_1 = 25\n",
    "str_1 = \"'Стрічковий тип даних'\"\n",
    "float_1 = 8.4\n",
    "\n",
    "int_1.__repr__()"
   ]
  },
  {
   "cell_type": "markdown",
   "metadata": {},
   "source": [
    "***********************"
   ]
  },
  {
   "cell_type": "markdown",
   "metadata": {},
   "source": [
    "### Способи виведення повідомлень та змінних:"
   ]
  },
  {
   "cell_type": "code",
   "execution_count": 42,
   "metadata": {},
   "outputs": [
    {
     "name": "stdout",
     "output_type": "stream",
     "text": [
      "Hello world!!!\n",
      " Змінна має тип <class 'int'> та значення: 25 \n",
      " Змінна має тип <class 'float'> та значення: 8.4 \n",
      " Змінна має тип <class 'str'> та значення: 'Стрічковий тип даних'\n",
      "\n",
      "\n",
      "1. Змінна має тип <class 'int'> та значення: 25\n",
      "2. Змінна має тип <class 'int'> та значення: 25\n",
      "3. Змінна має тип <class 'int'> та значення: 25\n",
      "4. Змінна має тип <class 'int'> та значення: 25\n"
     ]
    }
   ],
   "source": [
    "print(\"Hello world!!!\")\n",
    "print(\" Змінна має тип\", type(int_1), \"та значення:\", int_1 ,'\\n',\"Змінна має тип\", type(float_1), \"та значення:\", float_1 , '\\n',\"Змінна має тип\", type(str_1), \"та значення:\", str_1)\n",
    "print('\\n')\n",
    "print(\"1. Змінна має тип\", type(int_1), \"та значення:\", int_1)\n",
    "print(\"2. Змінна має тип \" + str(type(int_1))+ \" та значення: \"+ str(int_1))\n",
    "print(\"3. Змінна має тип {0} та значення: {1}\".format(type(int_1), int_1))\n",
    "print(f\"4. Змінна має тип {type(int_1)} та значення: {int_1}\")"
   ]
  },
  {
   "cell_type": "markdown",
   "metadata": {},
   "source": [
    "********************"
   ]
  },
  {
   "cell_type": "markdown",
   "metadata": {},
   "source": [
    "## Комплексні типи даних\n",
    "### List"
   ]
  },
  {
   "cell_type": "code",
   "execution_count": 11,
   "metadata": {},
   "outputs": [
    {
     "name": "stdout",
     "output_type": "stream",
     "text": [
      "Це є тип <class 'list'> та його елементи [5, 7, 12] \n",
      "Це є тип <class 'list'> та його елементи ['string', 14, 2.8, 'Клас', ['cat', 16], '!!!!'] \n",
      "Під порядковим номером 2 є значення 2.8 \n",
      "Ми навчились програмувати !!!! Клас \n",
      "['string', 14, 2.8, 'Клас', ['cat', 16], '!!!!', 'Новий елемент']\n"
     ]
    }
   ],
   "source": [
    "ll_1 = list([5, 7, 12])\n",
    "print(f\"Це є тип {type(ll_1)} та його елементи {ll_1} \")\n",
    "\n",
    "ll_2 = [\"string\", 14, 2.8,\"Клас\", [\"cat\", 16], \"!!!!\" ]\n",
    "print(f\"Це є тип {type(ll_2)} та його елементи {ll_2} \")\n",
    "print(f\"Під порядковим номером {ll_2.index(2.8)} є значення {ll_2[2]} \")\n",
    "\n",
    "print(f\"Ми навчились програмувати {ll_2[-1]} {ll_2[-3]} \")\n",
    "\n",
    "ll_2.append(\"Новий елемент\")\n",
    "print(ll_2)\n"
   ]
  },
  {
   "cell_type": "markdown",
   "metadata": {},
   "source": [
    "### Tuples"
   ]
  },
  {
   "cell_type": "code",
   "execution_count": 66,
   "metadata": {},
   "outputs": [
    {
     "name": "stdout",
     "output_type": "stream",
     "text": [
      "Це є тип <class 'tuple'> та його елементи ('string', 14, 2.8, 'Клас', ['cat', 16], '!!!!', 'Новий елемент') \n",
      "1\n"
     ]
    }
   ],
   "source": [
    "tt = tuple(ll_2)\n",
    "print(f\"Це є тип {type(tt)} та його елементи {tt} \")\n",
    "print(tt.count(\"Клас\"))"
   ]
  },
  {
   "cell_type": "markdown",
   "metadata": {},
   "source": [
    "### Set"
   ]
  },
  {
   "cell_type": "code",
   "execution_count": 77,
   "metadata": {},
   "outputs": [
    {
     "name": "stdout",
     "output_type": "stream",
     "text": [
      "Це є тип даних <class 'set'> та його елементи {'string', 1, 'String', 'abc'}\n",
      "Ми додали та видалили елементи; нові елементи Сету {1, 'cat', 'abc', 'string'}\n"
     ]
    }
   ],
   "source": [
    "ss = {\"String\",\"abc\",\"string\",1,1.0,\"string\"}\n",
    "print(f\"Це є тип даних {type(ss)} та його елементи {ss}\")\n",
    "ss.remove(\"String\")\n",
    "ss.add(\"cat\")\n",
    "ss.add(\"abc\")\n",
    "print(f\"Ми додали та видалили елементи; нові елементи Сету {ss}\")"
   ]
  },
  {
   "cell_type": "markdown",
   "metadata": {},
   "source": [
    "### Dict"
   ]
  },
  {
   "cell_type": "code",
   "execution_count": 94,
   "metadata": {},
   "outputs": [
    {
     "name": "stdout",
     "output_type": "stream",
     "text": [
      "Елементи словника: {'name': 'Hrystia', 'Мій вік': 21, 'age': None} та значення name дорівнює Hrystia\n",
      "Додали/видалили нові значення: {'Мій вік': 21, 'age': None, 'Нове значення': 'New'}\n"
     ]
    }
   ],
   "source": [
    "age =\"Мій вік\"\n",
    "name = \"name\"\n",
    "dd = {\"name\": \"Khrystyna\",age: 20,\"age\":None, age: 21, name:\"Hrystia\"}\n",
    "print(f\"Елементи словника: {dd} та значення name дорівнює {dd['name']}\")\n",
    "dd['Нове значення']= \"New\"\n",
    "dd.pop('name')\n",
    "print(f\"Додали/видалили нові значення: {dd}\")"
   ]
  },
  {
   "cell_type": "markdown",
   "metadata": {},
   "source": [
    "_________________"
   ]
  },
  {
   "cell_type": "markdown",
   "metadata": {},
   "source": [
    "### Робота з вбудованими константами"
   ]
  },
  {
   "cell_type": "code",
   "execution_count": 95,
   "metadata": {},
   "outputs": [
    {
     "name": "stdout",
     "output_type": "stream",
     "text": [
      "Значення False - це не те саме, що константа False\n"
     ]
    }
   ],
   "source": [
    "Falses = \"False\"\n",
    "print(f\"Значення {Falses} - це не те саме, що константа {False}\")"
   ]
  },
  {
   "cell_type": "markdown",
   "metadata": {},
   "source": [
    "***********"
   ]
  },
  {
   "cell_type": "markdown",
   "metadata": {},
   "source": [
    "### Робота з вбудованими функціями"
   ]
  },
  {
   "cell_type": "code",
   "execution_count": 7,
   "metadata": {},
   "outputs": [
    {
     "name": "stdout",
     "output_type": "stream",
     "text": [
      "nice\n",
      "12.5 є рівним 12.5\n",
      "Модулі рівні\n",
      "12.51\n"
     ]
    }
   ],
   "source": [
    "def my_pretty_function(): # Функція написана користувачем\n",
    "    print(\"nice\")\n",
    "my_pretty_function()\n",
    "\n",
    "print(abs(-12.5),f\"є рівним {abs(12.5)}\")\n",
    "print(\"Модулі рівні\" if abs(-12.5)==abs(12.5) else \"Вони не рівні\")\n",
    "\n",
    "print(round(12.5125,2))"
   ]
  },
  {
   "cell_type": "markdown",
   "metadata": {},
   "source": [
    "_________________"
   ]
  },
  {
   "cell_type": "markdown",
   "metadata": {},
   "source": [
    "### Робота з циклами\n",
    "- пробуємо while\n",
    "- пробуємо for"
   ]
  },
  {
   "cell_type": "code",
   "execution_count": 23,
   "metadata": {},
   "outputs": [
    {
     "name": "stdout",
     "output_type": "stream",
     "text": [
      "Значення a = 1\n",
      "Це не виконається\n",
      "Значення a = 2\n",
      "Це не виконається\n",
      "Значення a = 4\n",
      "Це не виконається\n",
      "Значення a = 5\n",
      "Це не виконається\n",
      "Перервали цикл на значенні 6\n",
      "\n",
      "\n",
      "Закінчили з while ?+??+??+??+??+??+??+??+??+??+?\n",
      "Проходимо в циклі елемент string його тип <class 'str'>\n",
      "Проходимо в циклі елемент 14 його тип <class 'int'>\n",
      "Проходимо в циклі елемент 2.8 його тип <class 'float'>\n",
      "Проходимо в циклі елемент Клас його тип <class 'str'>\n",
      "Проходимо в циклі елемент ['cat', 16] його тип <class 'list'>\n",
      "Проходимо в циклі елемент !!!! його тип <class 'str'>\n",
      "Проходимо в циклі елемент Новий елемент його тип <class 'str'>\n",
      "?+??+??+??+??+??+??+??+??+??+? Закінчили перший приклад з for ?+??+??+??+??+??+??+??+??+??+?\n",
      "2\n",
      "5\n",
      "8\n",
      "['Проходимо ітерацію 1', 'Проходимо ітерацію 2']\n"
     ]
    }
   ],
   "source": [
    "delimitter = \"?+?\"*10\n",
    "a = 0\n",
    "while True: # Подвійна перевірка умови трохи неправильно\n",
    "    a+=1\n",
    "    if a>5:\n",
    "        print(f\"Перервали цикл на значенні {a}\")\n",
    "        break\n",
    "    elif a == 3:\n",
    "        continue\n",
    "        \n",
    "    print(f\"Значення a = {a}\")\n",
    "    print(\"Це не виконається\")\n",
    "\n",
    "print('\\n')\n",
    "print(\"Закінчили з while\",delimitter )\n",
    "for i in ll_2:\n",
    "    print(f\"Проходимо в циклі елемент {i} його тип {type(i)}\")\n",
    "print(delimitter,\"Закінчили перший приклад з for\", delimitter)\n",
    "\n",
    "for i in range(2,10,3):#(start, stop, step)\n",
    "    print(i)\n",
    "\n",
    "\n",
    "print(list(f\"Проходимо ітерацію {one_line}\" for one_line in [1,2] ))    "
   ]
  },
  {
   "cell_type": "markdown",
   "metadata": {},
   "source": [
    "_______________________"
   ]
  },
  {
   "cell_type": "markdown",
   "metadata": {},
   "source": [
    "### Робота з розгалуженнями"
   ]
  },
  {
   "cell_type": "code",
   "execution_count": 25,
   "metadata": {},
   "outputs": [
    {
     "name": "stdout",
     "output_type": "stream",
     "text": [
      "Значення A=True\n",
      "Це виконається\n"
     ]
    }
   ],
   "source": [
    "A=True\n",
    "print(\"Значення A=True\" if A else \"Значить A=False\")\n",
    "\n",
    "A=5\n",
    "if A >5 :\n",
    "    print(\"Це не виконається\")\n",
    "elif A ==1:\n",
    "    print(\"Це не виконається\")\n",
    "elif A!=2:\n",
    "    print(\"Це виконається\")\n",
    "else:\n",
    "    print(\"Гарантовано False\")\n",
    "\n"
   ]
  },
  {
   "cell_type": "markdown",
   "metadata": {},
   "source": [
    "_________________________________"
   ]
  },
  {
   "cell_type": "markdown",
   "metadata": {},
   "source": [
    "### Робота з Exceptions"
   ]
  },
  {
   "cell_type": "code",
   "execution_count": 39,
   "metadata": {},
   "outputs": [
    {
     "ename": "ZeroDivisionError",
     "evalue": "division by zero",
     "output_type": "error",
     "traceback": [
      "\u001b[1;31m---------------------------------------------------------------------------\u001b[0m",
      "\u001b[1;31mZeroDivisionError\u001b[0m                         Traceback (most recent call last)",
      "Cell \u001b[1;32mIn [39], line 4\u001b[0m\n\u001b[0;32m      1\u001b[0m \u001b[38;5;66;03m#from logging import exception\u001b[39;00m\n\u001b[0;32m      3\u001b[0m ll\u001b[38;5;241m=\u001b[39m[\u001b[38;5;241m1\u001b[39m,\u001b[38;5;241m5\u001b[39m,\u001b[38;5;241m0\u001b[39m]\n\u001b[1;32m----> 4\u001b[0m \u001b[38;5;28mprint\u001b[39m([\u001b[38;5;241m10\u001b[39m \u001b[38;5;241m/\u001b[39m x \u001b[38;5;28;01mfor\u001b[39;00m x \u001b[38;5;129;01min\u001b[39;00m ll])\n\u001b[0;32m      6\u001b[0m \u001b[38;5;28mprint\u001b[39m(\u001b[38;5;124m\"\u001b[39m\u001b[38;5;124mЦей текст не виводиться, бо сталась помилка\u001b[39m\u001b[38;5;124m\"\u001b[39m)\n",
      "Cell \u001b[1;32mIn [39], line 4\u001b[0m, in \u001b[0;36m<listcomp>\u001b[1;34m(.0)\u001b[0m\n\u001b[0;32m      1\u001b[0m \u001b[38;5;66;03m#from logging import exception\u001b[39;00m\n\u001b[0;32m      3\u001b[0m ll\u001b[38;5;241m=\u001b[39m[\u001b[38;5;241m1\u001b[39m,\u001b[38;5;241m5\u001b[39m,\u001b[38;5;241m0\u001b[39m]\n\u001b[1;32m----> 4\u001b[0m \u001b[38;5;28mprint\u001b[39m([\u001b[38;5;241;43m10\u001b[39;49m\u001b[43m \u001b[49m\u001b[38;5;241;43m/\u001b[39;49m\u001b[43m \u001b[49m\u001b[43mx\u001b[49m \u001b[38;5;28;01mfor\u001b[39;00m x \u001b[38;5;129;01min\u001b[39;00m ll])\n\u001b[0;32m      6\u001b[0m \u001b[38;5;28mprint\u001b[39m(\u001b[38;5;124m\"\u001b[39m\u001b[38;5;124mЦей текст не виводиться, бо сталась помилка\u001b[39m\u001b[38;5;124m\"\u001b[39m)\n",
      "\u001b[1;31mZeroDivisionError\u001b[0m: division by zero"
     ]
    }
   ],
   "source": [
    "#from logging import exception\n",
    "\n",
    "ll=[1,5,0]\n",
    "print([10 / x for x in ll])\n",
    "\n",
    "print(\"Цей текст не виводиться, бо сталась помилка\")"
   ]
  },
  {
   "cell_type": "code",
   "execution_count": 74,
   "metadata": {},
   "outputs": [
    {
     "name": "stdout",
     "output_type": "stream",
     "text": [
      "Сталася помилка!!! Ми виконали raise\n",
      "Сталася помилка!!! =>> division by zero\n",
      "Випадковий вибір 15\n",
      "Що буде якщо 0.6666666666666666 ?\n",
      "Це без помилок\n",
      "Це виведеться завжди: чи є помилка, чи її немає.\n"
     ]
    }
   ],
   "source": [
    "try:\n",
    "    raise\n",
    "except:\n",
    "    print(\"Сталася помилка!!! Ми виконали raise\")\n",
    "\n",
    "\n",
    "A = 0\n",
    "try:\n",
    "    print(\"Що буде якщо\", 10/A, \"?\")\n",
    "except Exception as e:\n",
    "    print(\"Сталася помилка!!! =>>\",e)\n",
    "\n",
    "\n",
    "import random\n",
    "A = random.choice([\"Str\", 15, 0])\n",
    "print(f\"Випадковий вибір {A}\")\n",
    "\n",
    "try:\n",
    "    print(\"Що буде якщо\", 10/A, \"?\")\n",
    "    #print(non_exist_variable)\n",
    "    print(\"Це без помилок\")\n",
    "except (ZeroDivisionError, NameError, TypeError) as e:\n",
    "    print(\"Сталася помилка!!! =>>\",e)\n",
    "\n",
    "\n",
    "finally:\n",
    "    print(\"Це виведеться завжди: чи є помилка, чи її немає.\")"
   ]
  },
  {
   "cell_type": "markdown",
   "metadata": {},
   "source": [
    "____________"
   ]
  },
  {
   "cell_type": "markdown",
   "metadata": {},
   "source": [
    "### Робота з контекст-менеджерами"
   ]
  },
  {
   "cell_type": "code",
   "execution_count": 79,
   "metadata": {},
   "outputs": [
    {
     "name": "stdout",
     "output_type": "stream",
     "text": [
      "['This is first line\\n', '\\n', '15  4   48\\n', '\\n', 'This is end']\n",
      "This is first line\n",
      "\n",
      "\n",
      "\n",
      "15  4   48\n",
      "\n",
      "\n",
      "\n",
      "This is end\n"
     ]
    }
   ],
   "source": [
    "f = open(\"text.txt\",\"r\")\n",
    "print(f.readlines())\n",
    "f.close()\n",
    "\n",
    "with open(\"text.txt\",\"r\") as f:\n",
    "    for line in f:\n",
    "       print(line)"
   ]
  },
  {
   "cell_type": "markdown",
   "metadata": {},
   "source": [
    "________________"
   ]
  },
  {
   "cell_type": "markdown",
   "metadata": {},
   "source": [
    "### Робота з Lambdas"
   ]
  },
  {
   "cell_type": "code",
   "execution_count": 83,
   "metadata": {},
   "outputs": [
    {
     "name": "stdout",
     "output_type": "stream",
     "text": [
      "<function main at 0x000002364D5981F0> Цей код написала: Христина Клим\n",
      "Це просто функція: <function main at 0x000002364D5981F0>\n",
      "Це виклик функції: Цей код написала: Христина Клим\n",
      "Це просто функція (лямбда): <function <lambda> at 0x000002364D598C10>\n",
      "Це її виклик: Цей код написала: Христина Клим\n"
     ]
    }
   ],
   "source": [
    "def main(first:str,last:str):\n",
    "    return f'Цей код написала: {first} {last}'\n",
    "\n",
    "#print(\"Це просто функція:\" )\n",
    "print(main, main(\"Христина\", \"Клим\"))\n",
    "\n",
    "print(\"Це просто функція:\", main)\n",
    "print(\"Це виклик функції:\", main('Христина', 'Клим'))\n",
    "\n",
    "this_is_lambda = lambda first, last: f'Цей код написала: {first} {last}'\n",
    "print(\"Це просто функція (лямбда):\", this_is_lambda)\n",
    "print(\"Це її виклик:\", this_is_lambda('Христина', 'Клим'))"
   ]
  },
  {
   "cell_type": "markdown",
   "metadata": {},
   "source": [
    "____________________________________"
   ]
  }
 ],
 "metadata": {
  "kernelspec": {
   "display_name": "Python 3.10.7 64-bit",
   "language": "python",
   "name": "python3"
  },
  "language_info": {
   "codemirror_mode": {
    "name": "ipython",
    "version": 3
   },
   "file_extension": ".py",
   "mimetype": "text/x-python",
   "name": "python",
   "nbconvert_exporter": "python",
   "pygments_lexer": "ipython3",
   "version": "3.10.7"
  },
  "orig_nbformat": 4,
  "vscode": {
   "interpreter": {
    "hash": "a891635ebcf0f1806bf908d027d57442511dc0c85800c94169002450ffd2a98b"
   }
  }
 },
 "nbformat": 4,
 "nbformat_minor": 2
}
