{
 "cells": [
  {
   "cell_type": "markdown",
   "metadata": {},
   "source": [
    "## Базові типи даних\n",
    "### Числові та стрічкові"
   ]
  },
  {
   "cell_type": "code",
   "execution_count": 29,
   "metadata": {},
   "outputs": [
    {
     "data": {
      "text/plain": [
       "'25'"
      ]
     },
     "execution_count": 29,
     "metadata": {},
     "output_type": "execute_result"
    }
   ],
   "source": [
    "int_1 = 25\n",
    "str_1 = \"'Стрічковий тип даних'\"\n",
    "float_1 = 8.4\n",
    "\n",
    "int_1.__repr__()"
   ]
  },
  {
   "cell_type": "markdown",
   "metadata": {},
   "source": [
    "***********************"
   ]
  },
  {
   "cell_type": "markdown",
   "metadata": {},
   "source": [
    "### Способи виведення повідомлень та змінних:"
   ]
  },
  {
   "cell_type": "code",
   "execution_count": 42,
   "metadata": {},
   "outputs": [
    {
     "name": "stdout",
     "output_type": "stream",
     "text": [
      "Hello world!!!\n",
      " Змінна має тип <class 'int'> та значення: 25 \n",
      " Змінна має тип <class 'float'> та значення: 8.4 \n",
      " Змінна має тип <class 'str'> та значення: 'Стрічковий тип даних'\n",
      "\n",
      "\n",
      "1. Змінна має тип <class 'int'> та значення: 25\n",
      "2. Змінна має тип <class 'int'> та значення: 25\n",
      "3. Змінна має тип <class 'int'> та значення: 25\n",
      "4. Змінна має тип <class 'int'> та значення: 25\n"
     ]
    }
   ],
   "source": [
    "print(\"Hello world!!!\")\n",
    "print(\" Змінна має тип\", type(int_1), \"та значення:\", int_1 ,'\\n',\"Змінна має тип\", type(float_1), \"та значення:\", float_1 , '\\n',\"Змінна має тип\", type(str_1), \"та значення:\", str_1)\n",
    "print('\\n')\n",
    "print(\"1. Змінна має тип\", type(int_1), \"та значення:\", int_1)\n",
    "print(\"2. Змінна має тип \" + str(type(int_1))+ \" та значення: \"+ str(int_1))\n",
    "print(\"3. Змінна має тип {0} та значення: {1}\".format(type(int_1), int_1))\n",
    "print(f\"4. Змінна має тип {type(int_1)} та значення: {int_1}\")"
   ]
  },
  {
   "cell_type": "markdown",
   "metadata": {},
   "source": [
    "********************"
   ]
  },
  {
   "cell_type": "markdown",
   "metadata": {},
   "source": [
    "## Комплексні типи даних\n",
    "### List"
   ]
  },
  {
   "cell_type": "code",
   "execution_count": 63,
   "metadata": {},
   "outputs": [
    {
     "name": "stdout",
     "output_type": "stream",
     "text": [
      "Це є тип <class 'list'> та його елементи [5, 7, 12] \n",
      "Це є тип <class 'list'> та його елементи ['string', 14, 2.8, 'Клас', ['cat', 16], '!!!!'] \n",
      "Під порядковим номером 2 є значення 2.8 \n",
      "Ми навчились програмувати !!!! Клас \n",
      "['string', 14, 2.8, 'Клас', ['cat', 16], '!!!!', 'Новий елемент']\n"
     ]
    }
   ],
   "source": [
    "ll_1 = list([5, 7, 12])\n",
    "print(f\"Це є тип {type(ll_1)} та його елементи {ll_1} \")\n",
    "\n",
    "ll_2 = [\"string\", 14, 2.8,\"Клас\", [\"cat\", 16], \"!!!!\" ]\n",
    "print(f\"Це є тип {type(ll_2)} та його елементи {ll_2} \")\n",
    "print(f\"Під порядковим номером {ll_2.index(2.8)} є значення {ll_2[2]} \")\n",
    "\n",
    "print(f\"Ми навчились програмувати {ll_2[-1]} {ll_2[-3]} \")\n",
    "\n",
    "ll_2.append(\"Новий елемент\")\n",
    "print(ll_2)\n"
   ]
  },
  {
   "cell_type": "markdown",
   "metadata": {},
   "source": [
    "### Tuples"
   ]
  },
  {
   "cell_type": "code",
   "execution_count": 66,
   "metadata": {},
   "outputs": [
    {
     "name": "stdout",
     "output_type": "stream",
     "text": [
      "Це є тип <class 'tuple'> та його елементи ('string', 14, 2.8, 'Клас', ['cat', 16], '!!!!', 'Новий елемент') \n",
      "1\n"
     ]
    }
   ],
   "source": [
    "tt = tuple(ll_2)\n",
    "print(f\"Це є тип {type(tt)} та його елементи {tt} \")\n",
    "print(tt.count(\"Клас\"))"
   ]
  },
  {
   "cell_type": "markdown",
   "metadata": {},
   "source": [
    "### Set"
   ]
  },
  {
   "cell_type": "code",
   "execution_count": 77,
   "metadata": {},
   "outputs": [
    {
     "name": "stdout",
     "output_type": "stream",
     "text": [
      "Це є тип даних <class 'set'> та його елементи {'string', 1, 'String', 'abc'}\n",
      "Ми додали та видалили елементи; нові елементи Сету {1, 'cat', 'abc', 'string'}\n"
     ]
    }
   ],
   "source": [
    "ss = {\"String\",\"abc\",\"string\",1,1.0,\"string\"}\n",
    "print(f\"Це є тип даних {type(ss)} та його елементи {ss}\")\n",
    "ss.remove(\"String\")\n",
    "ss.add(\"cat\")\n",
    "ss.add(\"abc\")\n",
    "print(f\"Ми додали та видалили елементи; нові елементи Сету {ss}\")"
   ]
  },
  {
   "cell_type": "markdown",
   "metadata": {},
   "source": [
    "### Dict"
   ]
  },
  {
   "cell_type": "code",
   "execution_count": 94,
   "metadata": {},
   "outputs": [
    {
     "name": "stdout",
     "output_type": "stream",
     "text": [
      "Елементи словника: {'name': 'Hrystia', 'Мій вік': 21, 'age': None} та значення name дорівнює Hrystia\n",
      "Додали/видалили нові значення: {'Мій вік': 21, 'age': None, 'Нове значення': 'New'}\n"
     ]
    }
   ],
   "source": [
    "age =\"Мій вік\"\n",
    "name = \"name\"\n",
    "dd = {\"name\": \"Khrystyna\",age: 20,\"age\":None, age: 21, name:\"Hrystia\"}\n",
    "print(f\"Елементи словника: {dd} та значення name дорівнює {dd['name']}\")\n",
    "dd['Нове значення']= \"New\"\n",
    "dd.pop('name')\n",
    "print(f\"Додали/видалили нові значення: {dd}\")"
   ]
  },
  {
   "cell_type": "markdown",
   "metadata": {},
   "source": [
    "### Константи/змінні"
   ]
  },
  {
   "cell_type": "code",
   "execution_count": 95,
   "metadata": {},
   "outputs": [
    {
     "name": "stdout",
     "output_type": "stream",
     "text": [
      "Значення False - це не те саме, що константа False\n"
     ]
    }
   ],
   "source": [
    "Falses = \"False\"\n",
    "print(f\"Значення {Falses} - це не те саме, що константа {False}\")"
   ]
  },
  {
   "cell_type": "markdown",
   "metadata": {},
   "source": [
    "***********"
   ]
  }
 ],
 "metadata": {
  "kernelspec": {
   "display_name": "Python 3.10.6 64-bit",
   "language": "python",
   "name": "python3"
  },
  "language_info": {
   "codemirror_mode": {
    "name": "ipython",
    "version": 3
   },
   "file_extension": ".py",
   "mimetype": "text/x-python",
   "name": "python",
   "nbconvert_exporter": "python",
   "pygments_lexer": "ipython3",
   "version": "3.10.6"
  },
  "orig_nbformat": 4,
  "vscode": {
   "interpreter": {
    "hash": "afb734500600fd355917ca529030176ea0ca205570884b88f2f6f7d791fd3fbe"
   }
  }
 },
 "nbformat": 4,
 "nbformat_minor": 2
}
