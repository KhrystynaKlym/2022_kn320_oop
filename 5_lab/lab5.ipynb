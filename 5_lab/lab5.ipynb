{
 "cells": [
  {
   "cell_type": "markdown",
   "metadata": {},
   "source": [
    "### 1. Перевірка assert"
   ]
  },
  {
   "cell_type": "code",
   "execution_count": 27,
   "metadata": {},
   "outputs": [
    {
     "ename": "AssertionError",
     "evalue": "число має бути більшим за нуль!",
     "output_type": "error",
     "traceback": [
      "\u001b[1;31m---------------------------------------------------------------------------\u001b[0m",
      "\u001b[1;31mAssertionError\u001b[0m                            Traceback (most recent call last)",
      "Cell \u001b[1;32mIn [27], line 2\u001b[0m\n\u001b[0;32m      1\u001b[0m number \u001b[39m=\u001b[39m \u001b[39m-\u001b[39m\u001b[39m1\u001b[39m\n\u001b[1;32m----> 2\u001b[0m \u001b[39massert\u001b[39;00m number \u001b[39m>\u001b[39m \u001b[39m0\u001b[39m, \u001b[39m\"\u001b[39m\u001b[39mчисло має бути більшим за нуль!\u001b[39m\u001b[39m\"\u001b[39m\n",
      "\u001b[1;31mAssertionError\u001b[0m: число має бути більшим за нуль!"
     ]
    }
   ],
   "source": [
    "number = -1\n",
    "assert number > 0, \"число має бути більшим за нуль!\""
   ]
  },
  {
   "cell_type": "code",
   "execution_count": 25,
   "metadata": {},
   "outputs": [
    {
     "name": "stdout",
     "output_type": "stream",
     "text": [
      "Tiger\n"
     ]
    },
    {
     "ename": "AssertionError",
     "evalue": "Значення name повинно містити символи таблиці ASCII",
     "output_type": "error",
     "traceback": [
      "\u001b[1;31m---------------------------------------------------------------------------\u001b[0m",
      "\u001b[1;31mAssertionError\u001b[0m                            Traceback (most recent call last)",
      "Cell \u001b[1;32mIn [25], line 8\u001b[0m\n\u001b[0;32m      6\u001b[0m a \u001b[39m=\u001b[39m Animal(\u001b[39m\"\u001b[39m\u001b[39mTiger\u001b[39m\u001b[39m\"\u001b[39m)\n\u001b[0;32m      7\u001b[0m \u001b[39mprint\u001b[39m(a\u001b[39m.\u001b[39mname)\n\u001b[1;32m----> 8\u001b[0m b \u001b[39m=\u001b[39m Animal(\u001b[39m\"\u001b[39;49m\u001b[39mТигр\u001b[39;49m\u001b[39m\"\u001b[39;49m)\n\u001b[0;32m      9\u001b[0m \u001b[39mprint\u001b[39m(b\u001b[39m.\u001b[39mname)\n",
      "Cell \u001b[1;32mIn [25], line 3\u001b[0m, in \u001b[0;36mAnimal.__init__\u001b[1;34m(self, name, mass)\u001b[0m\n\u001b[0;32m      2\u001b[0m \u001b[39mdef\u001b[39;00m \u001b[39m__init__\u001b[39m(\u001b[39mself\u001b[39m, name:\u001b[39mstr\u001b[39m, mass\u001b[39m=\u001b[39m\u001b[39mNone\u001b[39;00m) \u001b[39m-\u001b[39m\u001b[39m>\u001b[39m \u001b[39mNone\u001b[39;00m:\n\u001b[1;32m----> 3\u001b[0m     \u001b[39massert\u001b[39;00m name\u001b[39m.\u001b[39misascii(), \u001b[39m\"\u001b[39m\u001b[39mЗначення name повинно містити символи таблиці ASCII\u001b[39m\u001b[39m\"\u001b[39m\n\u001b[0;32m      4\u001b[0m     \u001b[39mself\u001b[39m\u001b[39m.\u001b[39mname \u001b[39m=\u001b[39m name\n",
      "\u001b[1;31mAssertionError\u001b[0m: Значення name повинно містити символи таблиці ASCII"
     ]
    }
   ],
   "source": [
    "class Animal:\n",
    "    def __init__(self, name:str, mass=None) -> None:\n",
    "        assert name.isascii(), \"Значення name повинно містити символи таблиці ASCII\"\n",
    "        self.name = name\n",
    "\n",
    "a = Animal(\"Tiger\")\n",
    "print(a.name)\n",
    "b = Animal(\"Тигр\")\n",
    "print(b.name)"
   ]
  },
  {
   "cell_type": "code",
   "execution_count": 28,
   "metadata": {},
   "outputs": [
    {
     "ename": "AssertionError",
     "evalue": "Маса має бути введена цифрами",
     "output_type": "error",
     "traceback": [
      "\u001b[1;31m---------------------------------------------------------------------------\u001b[0m",
      "\u001b[1;31mAssertionError\u001b[0m                            Traceback (most recent call last)",
      "Cell \u001b[1;32mIn [28], line 11\u001b[0m\n\u001b[0;32m      8\u001b[0m         \u001b[39melse\u001b[39;00m:\n\u001b[0;32m      9\u001b[0m             \u001b[39mraise\u001b[39;00m \u001b[39mAssertionError\u001b[39;00m(\u001b[39m\"\u001b[39m\u001b[39mМаса має бути введена цифрами\u001b[39m\u001b[39m\"\u001b[39m)\n\u001b[1;32m---> 11\u001b[0m a \u001b[39m=\u001b[39m Animal(\u001b[39m\"\u001b[39;49m\u001b[39mMonkey\u001b[39;49m\u001b[39m\"\u001b[39;49m, \u001b[39m'\u001b[39;49m\u001b[39m40.5\u001b[39;49m\u001b[39m'\u001b[39;49m)\n\u001b[0;32m     12\u001b[0m \u001b[39mprint\u001b[39m(a\u001b[39m.\u001b[39mname, a\u001b[39m.\u001b[39mmass)\n",
      "Cell \u001b[1;32mIn [28], line 9\u001b[0m, in \u001b[0;36mAnimal.__init__\u001b[1;34m(self, name, mass)\u001b[0m\n\u001b[0;32m      7\u001b[0m     \u001b[39mself\u001b[39m\u001b[39m.\u001b[39mmass \u001b[39m=\u001b[39m mass\n\u001b[0;32m      8\u001b[0m \u001b[39melse\u001b[39;00m:\n\u001b[1;32m----> 9\u001b[0m     \u001b[39mraise\u001b[39;00m \u001b[39mAssertionError\u001b[39;00m(\u001b[39m\"\u001b[39m\u001b[39mМаса має бути введена цифрами\u001b[39m\u001b[39m\"\u001b[39m)\n",
      "\u001b[1;31mAssertionError\u001b[0m: Маса має бути введена цифрами"
     ]
    }
   ],
   "source": [
    "class Animal:\n",
    "    def __init__(self, name:str, mass) -> None:\n",
    "        assert name.isascii(), \"Значення name повинно містити символи таблиці ASCII\"\n",
    "        self.name = name\n",
    "        # Можна assert замінити на IF\n",
    "        if isinstance(mass, float):\n",
    "            self.mass = mass\n",
    "        else:\n",
    "            raise AssertionError(\"Маса має бути введена цифрами\")\n",
    "\n",
    "a = Animal(\"Monkey\", '40.5')\n",
    "print(a.name, a.mass)\n",
    "\n"
   ]
  },
  {
   "cell_type": "markdown",
   "metadata": {},
   "source": [
    "### Assert, input"
   ]
  },
  {
   "cell_type": "code",
   "execution_count": 36,
   "metadata": {},
   "outputs": [
    {
     "ename": "AssertionError",
     "evalue": "Потрібно ввести число!",
     "output_type": "error",
     "traceback": [
      "\u001b[1;31m---------------------------------------------------------------------------\u001b[0m",
      "\u001b[1;31mAssertionError\u001b[0m                            Traceback (most recent call last)",
      "Cell \u001b[1;32mIn [36], line 2\u001b[0m\n\u001b[0;32m      1\u001b[0m a \u001b[39m=\u001b[39m \u001b[39minput\u001b[39m(\u001b[39m\"\u001b[39m\u001b[39mВведіть число: \u001b[39m\u001b[39m\"\u001b[39m)\n\u001b[1;32m----> 2\u001b[0m \u001b[39massert\u001b[39;00m a\u001b[39m.\u001b[39misdigit(), \u001b[39m\"\u001b[39m\u001b[39mПотрібно ввести число!\u001b[39m\u001b[39m\"\u001b[39m\n\u001b[0;32m      3\u001b[0m \u001b[39mprint\u001b[39m(\u001b[39mf\u001b[39m\u001b[39m\"\u001b[39m\u001b[39mвведене число: \u001b[39m\u001b[39m{\u001b[39;00ma\u001b[39m}\u001b[39;00m\u001b[39m\"\u001b[39m)\n",
      "\u001b[1;31mAssertionError\u001b[0m: Потрібно ввести число!"
     ]
    }
   ],
   "source": [
    "a = input(\"Введіть число: \")\n",
    "assert a.isdigit(), \"Потрібно ввести число!\"\n",
    "print(f\"введене число: {a}\")"
   ]
  },
  {
   "cell_type": "markdown",
   "metadata": {},
   "source": [
    "### Перевірка (валідація) правильності вводу аргументів"
   ]
  },
  {
   "cell_type": "code",
   "execution_count": 83,
   "metadata": {},
   "outputs": [
    {
     "name": "stdout",
     "output_type": "stream",
     "text": [
      "квадрат 12\n"
     ]
    },
    {
     "ename": "AssertionError",
     "evalue": "Довжина має бути більшою за 0!",
     "output_type": "error",
     "traceback": [
      "\u001b[1;31m---------------------------------------------------------------------------\u001b[0m",
      "\u001b[1;31mAssertionError\u001b[0m                            Traceback (most recent call last)",
      "Cell \u001b[1;32mIn [83], line 10\u001b[0m\n\u001b[0;32m      8\u001b[0m a \u001b[39m=\u001b[39m Figure(\u001b[39m\"\u001b[39m\u001b[39mквадрат\u001b[39m\u001b[39m\"\u001b[39m, \u001b[39m12\u001b[39m)\n\u001b[0;32m      9\u001b[0m \u001b[39mprint\u001b[39m(a\u001b[39m.\u001b[39mtype, a\u001b[39m.\u001b[39mlength)\n\u001b[1;32m---> 10\u001b[0m b \u001b[39m=\u001b[39m Figure(\u001b[39m\"\u001b[39;49m\u001b[39mтрикутник\u001b[39;49m\u001b[39m\"\u001b[39;49m, \u001b[39m0\u001b[39;49m)\n\u001b[0;32m     11\u001b[0m \u001b[39mprint\u001b[39m(b\u001b[39m.\u001b[39mtype, b\u001b[39m.\u001b[39mlength)\n\u001b[0;32m     12\u001b[0m c \u001b[39m=\u001b[39m Figure(\u001b[39m\"\u001b[39m\u001b[39mпрямокутник\u001b[39m\u001b[39m\"\u001b[39m, \u001b[39m1\u001b[39m)\n",
      "Cell \u001b[1;32mIn [83], line 3\u001b[0m, in \u001b[0;36mFigure.__init__\u001b[1;34m(self, type, length)\u001b[0m\n\u001b[0;32m      2\u001b[0m \u001b[39mdef\u001b[39;00m \u001b[39m__init__\u001b[39m(\u001b[39mself\u001b[39m, \u001b[39mtype\u001b[39m, length) \u001b[39m-\u001b[39m\u001b[39m>\u001b[39m \u001b[39mNone\u001b[39;00m:\n\u001b[1;32m----> 3\u001b[0m     \u001b[39massert\u001b[39;00m length \u001b[39m>\u001b[39m \u001b[39m0\u001b[39m, \u001b[39m\"\u001b[39m\u001b[39mДовжина має бути більшою за 0!\u001b[39m\u001b[39m\"\u001b[39m\n\u001b[0;32m      4\u001b[0m     \u001b[39massert\u001b[39;00m \u001b[39mtype\u001b[39m \u001b[39min\u001b[39;00m [\u001b[39m\"\u001b[39m\u001b[39mквадрат\u001b[39m\u001b[39m\"\u001b[39m, \u001b[39m\"\u001b[39m\u001b[39mпрямокутник\u001b[39m\u001b[39m\"\u001b[39m, \u001b[39m\"\u001b[39m\u001b[39mтрикутник\u001b[39m\u001b[39m\"\u001b[39m], \u001b[39m\"\u001b[39m\u001b[39mДозволені фігури: квадрат, прямокутник, трикутник\u001b[39m\u001b[39m\"\u001b[39m\n\u001b[0;32m      5\u001b[0m     \u001b[39mself\u001b[39m\u001b[39m.\u001b[39mtype \u001b[39m=\u001b[39m \u001b[39mtype\u001b[39m\n",
      "\u001b[1;31mAssertionError\u001b[0m: Довжина має бути більшою за 0!"
     ]
    }
   ],
   "source": [
    "class Figure:\n",
    "        def __init__(self, type, length) -> None:\n",
    "            assert length > 0, \"Довжина має бути більшою за 0!\"\n",
    "            assert type in [\"квадрат\", \"прямокутник\", \"трикутник\"], \"Дозволені фігури: квадрат, прямокутник, трикутник\"\n",
    "            self.type = type\n",
    "            self.length = length\n",
    "\n",
    "a = Figure(\"квадрат\", 12)\n",
    "print(a.type, a.length)\n",
    "b = Figure(\"трикутник\", 0)\n",
    "print(b.type, b.length)\n",
    "c = Figure(\"прямокутник\", 1)\n",
    "print(c.type, c.length)"
   ]
  },
  {
   "cell_type": "markdown",
   "metadata": {},
   "source": [
    "### Перевірка з використанням умовного розгалуження"
   ]
  },
  {
   "cell_type": "code",
   "execution_count": 7,
   "metadata": {},
   "outputs": [
    {
     "ename": "ValueError",
     "evalue": "Дозволені імена: Богдан, Анонім",
     "output_type": "error",
     "traceback": [
      "\u001b[1;31m---------------------------------------------------------------------------\u001b[0m",
      "\u001b[1;31mValueError\u001b[0m                                Traceback (most recent call last)",
      "Cell \u001b[1;32mIn [7], line 7\u001b[0m\n\u001b[0;32m      4\u001b[0m                 \u001b[39mraise\u001b[39;00m \u001b[39mValueError\u001b[39;00m(\u001b[39m\"\u001b[39m\u001b[39mДозволені імена: Богдан, Анонім\u001b[39m\u001b[39m\"\u001b[39m)\n\u001b[0;32m      5\u001b[0m             \u001b[39mself\u001b[39m\u001b[39m.\u001b[39mname \u001b[39m=\u001b[39m name\n\u001b[1;32m----> 7\u001b[0m a \u001b[39m=\u001b[39m Name(\u001b[39m\"\u001b[39;49m\u001b[39mБодько\u001b[39;49m\u001b[39m\"\u001b[39;49m)\n",
      "Cell \u001b[1;32mIn [7], line 4\u001b[0m, in \u001b[0;36mName.__init__\u001b[1;34m(self, name)\u001b[0m\n\u001b[0;32m      2\u001b[0m \u001b[39mdef\u001b[39;00m \u001b[39m__init__\u001b[39m(\u001b[39mself\u001b[39m, name) \u001b[39m-\u001b[39m\u001b[39m>\u001b[39m \u001b[39mNone\u001b[39;00m:\n\u001b[0;32m      3\u001b[0m     \u001b[39mif\u001b[39;00m name \u001b[39mnot\u001b[39;00m \u001b[39min\u001b[39;00m [\u001b[39m\"\u001b[39m\u001b[39mБогдан\u001b[39m\u001b[39m\"\u001b[39m, \u001b[39m\"\u001b[39m\u001b[39mАнонім\u001b[39m\u001b[39m\"\u001b[39m]:\n\u001b[1;32m----> 4\u001b[0m         \u001b[39mraise\u001b[39;00m \u001b[39mValueError\u001b[39;00m(\u001b[39m\"\u001b[39m\u001b[39mДозволені імена: Богдан, Анонім\u001b[39m\u001b[39m\"\u001b[39m)\n\u001b[0;32m      5\u001b[0m     \u001b[39mself\u001b[39m\u001b[39m.\u001b[39mname \u001b[39m=\u001b[39m name\n",
      "\u001b[1;31mValueError\u001b[0m: Дозволені імена: Богдан, Анонім"
     ]
    }
   ],
   "source": [
    "class Name:\n",
    "        def __init__(self, name) -> None:\n",
    "            if name not in [\"Богдан\", \"Анонім\"]:\n",
    "                raise ValueError(\"Дозволені імена: Богдан, Анонім\")\n",
    "            self.name = name\n",
    "\n",
    "a = Name(\"Бодько\")"
   ]
  },
  {
   "cell_type": "code",
   "execution_count": 18,
   "metadata": {},
   "outputs": [
    {
     "name": "stdout",
     "output_type": "stream",
     "text": [
      "Христина Танці\n"
     ]
    },
    {
     "ename": "ValueError",
     "evalue": "Поле 'hobby' пусте! Введіть своє хоббі!!!",
     "output_type": "error",
     "traceback": [
      "\u001b[1;31m---------------------------------------------------------------------------\u001b[0m",
      "\u001b[1;31mValueError\u001b[0m                                Traceback (most recent call last)",
      "Cell \u001b[1;32mIn [18], line 14\u001b[0m\n\u001b[0;32m     11\u001b[0m \u001b[39mprint\u001b[39m(a\u001b[39m.\u001b[39mname, a\u001b[39m.\u001b[39mhobby)\n\u001b[0;32m     12\u001b[0m \u001b[39m#b = Name(\"Христинка\", \"Танці\")\u001b[39;00m\n\u001b[0;32m     13\u001b[0m \u001b[39m#print(b.name, b.hobby)\u001b[39;00m\n\u001b[1;32m---> 14\u001b[0m с \u001b[39m=\u001b[39m Name(\u001b[39m\"\u001b[39;49m\u001b[39mХристина\u001b[39;49m\u001b[39m\"\u001b[39;49m, \u001b[39m\"\u001b[39;49m\u001b[39m\"\u001b[39;49m)\n\u001b[0;32m     15\u001b[0m \u001b[39mprint\u001b[39m(с\u001b[39m.\u001b[39mname, с\u001b[39m.\u001b[39mhobby)\n",
      "Cell \u001b[1;32mIn [18], line 6\u001b[0m, in \u001b[0;36mName.__init__\u001b[1;34m(self, name, hobby)\u001b[0m\n\u001b[0;32m      4\u001b[0m     \u001b[39mraise\u001b[39;00m \u001b[39mValueError\u001b[39;00m(\u001b[39m\"\u001b[39m\u001b[39mДозволені імена: Христина, Богдан, Анонім\u001b[39m\u001b[39m\"\u001b[39m)\n\u001b[0;32m      5\u001b[0m \u001b[39mif\u001b[39;00m \u001b[39mnot\u001b[39;00m hobby:\n\u001b[1;32m----> 6\u001b[0m     \u001b[39mraise\u001b[39;00m \u001b[39mValueError\u001b[39;00m(\u001b[39m\"\u001b[39m\u001b[39mПоле \u001b[39m\u001b[39m'\u001b[39m\u001b[39mhobby\u001b[39m\u001b[39m'\u001b[39m\u001b[39m пусте! Введіть своє хоббі!!!\u001b[39m\u001b[39m\"\u001b[39m)\n\u001b[0;32m      8\u001b[0m \u001b[39mself\u001b[39m\u001b[39m.\u001b[39mname \u001b[39m=\u001b[39m name\n\u001b[0;32m      9\u001b[0m \u001b[39mself\u001b[39m\u001b[39m.\u001b[39mhobby \u001b[39m=\u001b[39m hobby\n",
      "\u001b[1;31mValueError\u001b[0m: Поле 'hobby' пусте! Введіть своє хоббі!!!"
     ]
    }
   ],
   "source": [
    "class Name:\n",
    "        def __init__(self, name:str, hobby) -> None:\n",
    "            if name not in [\"Христина\", \"Богдан\", \"Анонім\"]:\n",
    "                raise ValueError(\"Дозволені імена: Христина, Богдан, Анонім\")\n",
    "            if not hobby:\n",
    "                raise ValueError(\"Поле 'hobby' пусте! Введіть своє хоббі!!!\")\n",
    "            \n",
    "            self.name = name\n",
    "            self.hobby = hobby\n",
    "a = Name(\"Христина\", \"Танці\")\n",
    "print(a.name, a.hobby)\n",
    "#b = Name(\"Христинка\", \"Танці\")\n",
    "#print(b.name, b.hobby)\n",
    "с = Name(\"Христина\", \"\")\n",
    "print(с.name, с.hobby)"
   ]
  }
 ],
 "metadata": {
  "kernelspec": {
   "display_name": "Python 3.10.7 64-bit",
   "language": "python",
   "name": "python3"
  },
  "language_info": {
   "codemirror_mode": {
    "name": "ipython",
    "version": 3
   },
   "file_extension": ".py",
   "mimetype": "text/x-python",
   "name": "python",
   "nbconvert_exporter": "python",
   "pygments_lexer": "ipython3",
   "version": "3.10.7"
  },
  "orig_nbformat": 4,
  "vscode": {
   "interpreter": {
    "hash": "26de051ba29f2982a8de78e945f0abaf191376122a1563185a90213a26c5da77"
   }
  }
 },
 "nbformat": 4,
 "nbformat_minor": 2
}
